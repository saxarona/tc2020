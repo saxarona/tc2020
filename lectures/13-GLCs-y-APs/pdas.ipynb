{
 "cells": [
  {
   "cell_type": "markdown",
   "metadata": {},
   "source": [
    "# PDAs"
   ]
  },
  {
   "cell_type": "code",
   "execution_count": 1,
   "metadata": {},
   "outputs": [],
   "source": [
    "from automata.pda.npda import NPDA"
   ]
  },
  {
   "cell_type": "code",
   "execution_count": 28,
   "metadata": {},
   "outputs": [],
   "source": [
    "npda = NPDA(\n",
    "    states = {'q0', 'q1', 'q2'},\n",
    "    input_symbols = {'0', '1'},\n",
    "    stack_symbols = {'S','$'},\n",
    "    transitions={\n",
    "        'q0': {\n",
    "            '0': {\n",
    "                '$': {('q0', ('S','$'))},\n",
    "                'S': {('q0', ('S', 'S'))}\n",
    "            },\n",
    "            '1': {\n",
    "                'S': {('q1','')}\n",
    "            }\n",
    "        },\n",
    "        'q1':{\n",
    "            '1':{\n",
    "                'S': {('q1', '')}\n",
    "            },\n",
    "            '':{\n",
    "                '$': {('q2', '')}\n",
    "            } \n",
    "        },\n",
    "    },\n",
    "    initial_state = 'q0',\n",
    "    initial_stack_symbol = '$',\n",
    "    final_states = {'q2'},\n",
    "    acceptance_mode = 'both'\n",
    ")"
   ]
  },
  {
   "cell_type": "code",
   "execution_count": 29,
   "metadata": {},
   "outputs": [
    {
     "name": "stdout",
     "output_type": "stream",
     "text": [
      "{PDAConfiguration('q0', '000111', PDAStack('$',))}\n",
      "{PDAConfiguration('q0', '00111', PDAStack('$', 'S'))}\n",
      "{PDAConfiguration('q0', '0111', PDAStack('$', 'S', 'S'))}\n",
      "{PDAConfiguration('q0', '111', PDAStack('$', 'S', 'S', 'S'))}\n",
      "{PDAConfiguration('q1', '11', PDAStack('$', 'S', 'S'))}\n",
      "{PDAConfiguration('q1', '1', PDAStack('$', 'S'))}\n",
      "{PDAConfiguration('q1', '', PDAStack('$',))}\n",
      "{PDAConfiguration('q2', '', PDAStack())}\n"
     ]
    }
   ],
   "source": [
    "for i in npda.read_input_stepwise('000111'):\n",
    "    print(i)"
   ]
  },
  {
   "cell_type": "code",
   "execution_count": 30,
   "metadata": {},
   "outputs": [
    {
     "name": "stdout",
     "output_type": "stream",
     "text": [
      "accepted\n"
     ]
    }
   ],
   "source": [
    "print('accepted') if npda.accepts_input('000111') else print('rejected')"
   ]
  }
 ],
 "metadata": {
  "kernelspec": {
   "display_name": "Python 3",
   "language": "python",
   "name": "python3"
  },
  "language_info": {
   "codemirror_mode": {
    "name": "ipython",
    "version": 3
   },
   "file_extension": ".py",
   "mimetype": "text/x-python",
   "name": "python",
   "nbconvert_exporter": "python",
   "pygments_lexer": "ipython3",
   "version": "3.7.4"
  }
 },
 "nbformat": 4,
 "nbformat_minor": 4
}
